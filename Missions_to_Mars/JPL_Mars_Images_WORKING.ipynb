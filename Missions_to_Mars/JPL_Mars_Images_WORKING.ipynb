{
 "cells": [
  {
   "cell_type": "code",
   "execution_count": 69,
   "metadata": {},
   "outputs": [],
   "source": [
    "# Creating JPL_Mars_Image.ipynb on 10/11/2019\n",
    "# Homework 12 Web Scraping\n",
    "# 10/16/2019"
   ]
  },
  {
   "cell_type": "code",
   "execution_count": 70,
   "metadata": {},
   "outputs": [],
   "source": [
    "#Dependencies\n",
    "import requests\n",
    "import os\n",
    "from bs4 import BeautifulSoup as bs\n",
    "import pymongo\n",
    "from splinter import Browser\n",
    "import pandas as pd\n",
    "import time\n",
    "import urllib.request"
   ]
  },
  {
   "cell_type": "code",
   "execution_count": 71,
   "metadata": {},
   "outputs": [],
   "source": [
    "executable_path = {\"executable_path\": \"/___Rice/HomeWork/Home_Work_12_Web_Scraping/WIP/2/chromedriver\"}\n",
    "browser = Browser(\"chrome\", **executable_path, headless=False)"
   ]
  },
  {
   "cell_type": "code",
   "execution_count": 72,
   "metadata": {},
   "outputs": [],
   "source": [
    "# Scraping 2: JPL Mars Images\n",
    "url_base='https://www.jpl.nasa.gov'\n",
    "url_keys='/spaceimages/?search=&category=Mars'\n",
    "url=url_base+url_keys\n",
    "browser.visit(url)"
   ]
  },
  {
   "cell_type": "code",
   "execution_count": 73,
   "metadata": {},
   "outputs": [],
   "source": [
    "html=browser.html"
   ]
  },
  {
   "cell_type": "code",
   "execution_count": 74,
   "metadata": {},
   "outputs": [],
   "source": [
    "# To assure that all data sent by the website gets captured \n",
    "time.sleep(5)"
   ]
  },
  {
   "cell_type": "code",
   "execution_count": 75,
   "metadata": {},
   "outputs": [],
   "source": [
    "soup=bs(html, 'html.parser')"
   ]
  },
  {
   "cell_type": "code",
   "execution_count": 76,
   "metadata": {},
   "outputs": [],
   "source": [
    "# Closing the browser so as NOT to overload Windows System\n",
    "browser.quit()"
   ]
  },
  {
   "cell_type": "code",
   "execution_count": 77,
   "metadata": {},
   "outputs": [],
   "source": [
    "# Saving the HTML data to a file for future reference or possible use\n",
    "with open('JPL.txt', 'w', encoding='utf-8') as f_out:\n",
    "    f_out.write(soup.prettify())"
   ]
  },
  {
   "cell_type": "raw",
   "metadata": {},
   "source": [
    "Following is an excerpt from above saved text file. Examining it tells us what to look for\n",
    "<div class='img'\n",
    "<img alt=\"Send Your Name to Mars With Brad Pitt\" title=\"Send Your Name to Mars With Brad Pitt\" class=\"thumb\" src=\"/spaceimages/images/wallpaper/PIA23279-640x350.jpg\">"
   ]
  },
  {
   "cell_type": "code",
   "execution_count": 78,
   "metadata": {},
   "outputs": [
    {
     "name": "stdout",
     "output_type": "stream",
     "text": [
      "37 32\n"
     ]
    }
   ],
   "source": [
    "# Getting a count to have confidence in data scraping\n",
    "ttls = soup.find_all('div', class_=\"content_title\")\n",
    "imgs = soup.find_all('div', class_='img')\n",
    "print(len(ttls), len(imgs))"
   ]
  },
  {
   "cell_type": "code",
   "execution_count": 79,
   "metadata": {},
   "outputs": [
    {
     "name": "stdout",
     "output_type": "stream",
     "text": [
      "<img alt=\"Lyot Crater Dunes\" class=\"thumb\" src=\"/spaceimages/images/wallpaper/PIA23488-640x350.jpg\" title=\"Lyot Crater Dunes\"/>\n",
      "<img alt=\"Cerulli Crater Rim\" class=\"thumb\" src=\"/spaceimages/images/wallpaper/PIA23487-640x350.jpg\" title=\"Cerulli Crater Rim\"/>\n",
      "<img alt=\"Nilus Mensae\" class=\"thumb\" src=\"/spaceimages/images/wallpaper/PIA23486-640x350.jpg\" title=\"Nilus Mensae\"/>\n",
      "<img alt=\"Olympia Undae\" class=\"thumb\" src=\"/spaceimages/images/wallpaper/PIA23485-640x350.jpg\" title=\"Olympia Undae\"/>\n",
      "<img alt=\"Ceraunius Fossae\" class=\"thumb\" src=\"/spaceimages/images/wallpaper/PIA23484-640x350.jpg\" title=\"Ceraunius Fossae\"/>\n",
      "<img alt=\"Preparing to Pin the Mole\" class=\"thumb\" src=\"/spaceimages/images/wallpaper/PIA23373-640x350.jpg\" title=\"Preparing to Pin the Mole\"/>\n",
      "<img alt=\"Mamers Valles\" class=\"thumb\" src=\"/spaceimages/images/wallpaper/PIA23483-640x350.jpg\" title=\"Mamers Valles\"/>\n",
      "<img alt=\"Olympia Undae\" class=\"thumb\" src=\"/spaceimages/images/wallpaper/PIA23482-640x350.jpg\" title=\"Olympia Undae\"/>\n",
      "<img alt=\"Tikhonravov Crater\" class=\"thumb\" src=\"/spaceimages/images/wallpaper/PIA23481-640x350.jpg\" title=\"Tikhonravov Crater\"/>\n",
      "<img alt=\"Which Formed First?\" class=\"thumb\" src=\"/spaceimages/images/wallpaper/PIA23480-640x350.jpg\" title=\"Which Formed First?\"/>\n",
      "<img alt=\"Cerulli Crater Rim\" class=\"thumb\" src=\"/spaceimages/images/wallpaper/PIA23474-640x350.jpg\" title=\"Cerulli Crater Rim\"/>\n",
      "<img alt=\"Huo Hsing Vallis\" class=\"thumb\" src=\"/spaceimages/images/wallpaper/PIA23473-640x350.jpg\" title=\"Huo Hsing Vallis\"/>\n",
      "<img alt=\"Athabasca Valles\" class=\"thumb\" src=\"/spaceimages/images/wallpaper/PIA23472-640x350.jpg\" title=\"Athabasca Valles\"/>\n",
      "<img alt=\"Where the Wind Blows\" class=\"thumb\" src=\"/spaceimages/images/wallpaper/PIA23471-640x350.jpg\" title=\"Where the Wind Blows\"/>\n",
      "<img alt=\"Jezero Celebrates Jezero\" class=\"thumb\" src=\"/spaceimages/images/wallpaper/PIA23464-640x350.jpg\" title=\"Jezero Celebrates Jezero\"/>\n",
      "<img alt=\"NASA Mars Mission Connects with Bosnian and Herzegovinian Town\" class=\"thumb\" src=\"/spaceimages/images/wallpaper/PIA23463-640x350.jpg\" title=\"NASA Mars Mission Connects with Bosnian and Herzegovinian Town\"/>\n",
      "<img alt=\"Melas Chasma Landslides\" class=\"thumb\" src=\"/spaceimages/images/wallpaper/PIA23459-640x350.jpg\" title=\"Melas Chasma Landslides\"/>\n",
      "<img alt=\"Mars Underground Exposed: The Central Peak of Alga Crater\" class=\"thumb\" src=\"/spaceimages/images/wallpaper/PIA23479-640x350.jpg\" title=\"Mars Underground Exposed: The Central Peak of Alga Crater\"/>\n",
      "<img alt=\"Bonus Beauty\" class=\"thumb\" src=\"/spaceimages/images/wallpaper/PIA23478-640x350.jpg\" title=\"Bonus Beauty\"/>\n",
      "<img alt=\"Subliming Ice\" class=\"thumb\" src=\"/spaceimages/images/wallpaper/PIA23477-640x350.jpg\" title=\"Subliming Ice\"/>\n",
      "<img alt=\"A New Crater on Mars\" class=\"thumb\" src=\"/spaceimages/images/wallpaper/PIA23476-640x350.jpg\" title=\"A New Crater on Mars\"/>\n",
      "<img alt=\"Hebrus Valles\" class=\"thumb\" src=\"/spaceimages/images/wallpaper/PIA23458-640x350.jpg\" title=\"Hebrus Valles\"/>\n",
      "<img alt=\"Tractus Fossae and Tractus Catena\" class=\"thumb\" src=\"/spaceimages/images/wallpaper/PIA23457-640x350.jpg\" title=\"Tractus Fossae and Tractus Catena\"/>\n",
      "<img alt=\"Send Your Name to Mars With Brad Pitt\" class=\"thumb\" src=\"/spaceimages/images/wallpaper/PIA23279-640x350.jpg\" title=\"Send Your Name to Mars With Brad Pitt\"/>\n",
      "<img 'sandbox''=\"\" alt=\"A Hollywood Star in InSight\" class=\"thumb\" mars=\"\" s=\"\" src=\"/spaceimages/images/wallpaper/PIA23278-640x350.jpg\" title=\"A Hollywood Star in InSight\"/>\n",
      "<img (brad=\"\" a=\"\" alt=\"InSight\" class=\"thumb\" of=\"\" pitt)'=\"\" portrait=\"\" s=\"\" src=\"/spaceimages/images/wallpaper/PIA23280-640x350.jpg\" star=\"\" title=\"InSight\"/>\n",
      "<img alt=\"Shalbatana Vallis\" class=\"thumb\" src=\"/spaceimages/images/wallpaper/PIA23456-640x350.jpg\" title=\"Shalbatana Vallis\"/>\n",
      "<img alt=\"Sand Dunes\" class=\"thumb\" src=\"/spaceimages/images/wallpaper/PIA23455-640x350.jpg\" title=\"Sand Dunes\"/>\n",
      "<img alt=\"Granicus Valles\" class=\"thumb\" src=\"/spaceimages/images/wallpaper/PIA23450-640x350.jpg\" title=\"Granicus Valles\"/>\n",
      "<img alt=\"Cerberus Fossae\" class=\"thumb\" src=\"/spaceimages/images/wallpaper/PIA23449-640x350.jpg\" title=\"Cerberus Fossae\"/>\n",
      "<img alt=\"Hexagon Crater\" class=\"thumb\" src=\"/spaceimages/images/wallpaper/PIA23448-640x350.jpg\" title=\"Hexagon Crater\"/>\n",
      "<img alt=\"Daedalia Planum\" class=\"thumb\" src=\"/spaceimages/images/wallpaper/PIA23447-640x350.jpg\" title=\"Daedalia Planum\"/>\n"
     ]
    }
   ],
   "source": [
    "# Further verification of scrape quality when compared to number retrieved above\n",
    "for img in imgs:\n",
    "    print(img.find('img'))  "
   ]
  },
  {
   "cell_type": "code",
   "execution_count": 80,
   "metadata": {},
   "outputs": [
    {
     "name": "stdout",
     "output_type": "stream",
     "text": [
      "Lyot Crater Dunes @ /spaceimages/images/wallpaper/PIA23488-640x350.jpg\n",
      "Cerulli Crater Rim @ /spaceimages/images/wallpaper/PIA23487-640x350.jpg\n",
      "Nilus Mensae @ /spaceimages/images/wallpaper/PIA23486-640x350.jpg\n",
      "Olympia Undae @ /spaceimages/images/wallpaper/PIA23485-640x350.jpg\n",
      "Ceraunius Fossae @ /spaceimages/images/wallpaper/PIA23484-640x350.jpg\n",
      "Preparing to Pin the Mole @ /spaceimages/images/wallpaper/PIA23373-640x350.jpg\n",
      "Mamers Valles @ /spaceimages/images/wallpaper/PIA23483-640x350.jpg\n",
      "Olympia Undae @ /spaceimages/images/wallpaper/PIA23482-640x350.jpg\n",
      "Tikhonravov Crater @ /spaceimages/images/wallpaper/PIA23481-640x350.jpg\n",
      "Which Formed First? @ /spaceimages/images/wallpaper/PIA23480-640x350.jpg\n",
      "Cerulli Crater Rim @ /spaceimages/images/wallpaper/PIA23474-640x350.jpg\n",
      "Huo Hsing Vallis @ /spaceimages/images/wallpaper/PIA23473-640x350.jpg\n",
      "Athabasca Valles @ /spaceimages/images/wallpaper/PIA23472-640x350.jpg\n",
      "Where the Wind Blows @ /spaceimages/images/wallpaper/PIA23471-640x350.jpg\n",
      "Jezero Celebrates Jezero @ /spaceimages/images/wallpaper/PIA23464-640x350.jpg\n",
      "NASA Mars Mission Connects with Bosnian and Herzegovinian Town @ /spaceimages/images/wallpaper/PIA23463-640x350.jpg\n",
      "Melas Chasma Landslides @ /spaceimages/images/wallpaper/PIA23459-640x350.jpg\n",
      "Mars Underground Exposed: The Central Peak of Alga Crater @ /spaceimages/images/wallpaper/PIA23479-640x350.jpg\n",
      "Bonus Beauty @ /spaceimages/images/wallpaper/PIA23478-640x350.jpg\n",
      "Subliming Ice @ /spaceimages/images/wallpaper/PIA23477-640x350.jpg\n",
      "A New Crater on Mars @ /spaceimages/images/wallpaper/PIA23476-640x350.jpg\n",
      "Hebrus Valles @ /spaceimages/images/wallpaper/PIA23458-640x350.jpg\n",
      "Tractus Fossae and Tractus Catena @ /spaceimages/images/wallpaper/PIA23457-640x350.jpg\n",
      "Send Your Name to Mars With Brad Pitt @ /spaceimages/images/wallpaper/PIA23279-640x350.jpg\n",
      "A Hollywood Star in InSight @ /spaceimages/images/wallpaper/PIA23278-640x350.jpg\n",
      "InSight @ /spaceimages/images/wallpaper/PIA23280-640x350.jpg\n",
      "Shalbatana Vallis @ /spaceimages/images/wallpaper/PIA23456-640x350.jpg\n",
      "Sand Dunes @ /spaceimages/images/wallpaper/PIA23455-640x350.jpg\n",
      "Granicus Valles @ /spaceimages/images/wallpaper/PIA23450-640x350.jpg\n",
      "Cerberus Fossae @ /spaceimages/images/wallpaper/PIA23449-640x350.jpg\n",
      "Hexagon Crater @ /spaceimages/images/wallpaper/PIA23448-640x350.jpg\n",
      "Daedalia Planum @ /spaceimages/images/wallpaper/PIA23447-640x350.jpg\n"
     ]
    }
   ],
   "source": [
    "# Parsing desired information\n",
    "jplimages=[]\n",
    "for img in imgs:\n",
    "    imgname=img.find('img')['alt']\n",
    "    imgpath=img.find('img')['src']\n",
    "    jplimages.append((imgname, url_base+imgpath))\n",
    "    print(imgname+\" @ \"+imgpath)"
   ]
  },
  {
   "cell_type": "code",
   "execution_count": 81,
   "metadata": {},
   "outputs": [
    {
     "data": {
      "text/html": [
       "<div>\n",
       "<style scoped>\n",
       "    .dataframe tbody tr th:only-of-type {\n",
       "        vertical-align: middle;\n",
       "    }\n",
       "\n",
       "    .dataframe tbody tr th {\n",
       "        vertical-align: top;\n",
       "    }\n",
       "\n",
       "    .dataframe thead th {\n",
       "        text-align: right;\n",
       "    }\n",
       "</style>\n",
       "<table border=\"1\" class=\"dataframe\">\n",
       "  <thead>\n",
       "    <tr style=\"text-align: right;\">\n",
       "      <th></th>\n",
       "      <th>Image_Title</th>\n",
       "      <th>Image_URL</th>\n",
       "    </tr>\n",
       "  </thead>\n",
       "  <tbody>\n",
       "    <tr>\n",
       "      <th>27</th>\n",
       "      <td>Sand Dunes</td>\n",
       "      <td>https://www.jpl.nasa.gov/spaceimages/images/wa...</td>\n",
       "    </tr>\n",
       "    <tr>\n",
       "      <th>28</th>\n",
       "      <td>Granicus Valles</td>\n",
       "      <td>https://www.jpl.nasa.gov/spaceimages/images/wa...</td>\n",
       "    </tr>\n",
       "    <tr>\n",
       "      <th>29</th>\n",
       "      <td>Cerberus Fossae</td>\n",
       "      <td>https://www.jpl.nasa.gov/spaceimages/images/wa...</td>\n",
       "    </tr>\n",
       "    <tr>\n",
       "      <th>30</th>\n",
       "      <td>Hexagon Crater</td>\n",
       "      <td>https://www.jpl.nasa.gov/spaceimages/images/wa...</td>\n",
       "    </tr>\n",
       "    <tr>\n",
       "      <th>31</th>\n",
       "      <td>Daedalia Planum</td>\n",
       "      <td>https://www.jpl.nasa.gov/spaceimages/images/wa...</td>\n",
       "    </tr>\n",
       "  </tbody>\n",
       "</table>\n",
       "</div>"
      ],
      "text/plain": [
       "        Image_Title                                          Image_URL\n",
       "27       Sand Dunes  https://www.jpl.nasa.gov/spaceimages/images/wa...\n",
       "28  Granicus Valles  https://www.jpl.nasa.gov/spaceimages/images/wa...\n",
       "29  Cerberus Fossae  https://www.jpl.nasa.gov/spaceimages/images/wa...\n",
       "30   Hexagon Crater  https://www.jpl.nasa.gov/spaceimages/images/wa...\n",
       "31  Daedalia Planum  https://www.jpl.nasa.gov/spaceimages/images/wa..."
      ]
     },
     "execution_count": 81,
     "metadata": {},
     "output_type": "execute_result"
    }
   ],
   "source": [
    "# Creating DataFrame of desired items\n",
    "jpldf = pd.DataFrame(jplimages, columns=['Image_Title', 'Image_URL'])\n",
    "jpldf.to_csv('JPL_Images.csv', index=False, encoding='utf-8')\n",
    "jpldf.head()\n",
    "jpldf.tail()"
   ]
  },
  {
   "cell_type": "code",
   "execution_count": 82,
   "metadata": {},
   "outputs": [
    {
     "name": "stdout",
     "output_type": "stream",
     "text": [
      "https://www.jpl.nasa.gov/spaceimages/images/wallpaper/PIA23455-640x350.jpg\n"
     ]
    }
   ],
   "source": [
    "# Retrieving an image for Check\n",
    "imgpath=imgs[27].find('img')['src']\n",
    "imgname=imgs[27].find('img')['alt']\n",
    "imgurl=url_base+imgpath\n",
    "print(imgurl)"
   ]
  },
  {
   "cell_type": "code",
   "execution_count": 83,
   "metadata": {},
   "outputs": [],
   "source": [
    "executable_path = {\"executable_path\": \"/___Rice/HomeWork/Home_Work_12_Web_Scraping/WIP/2/chromedriver\"}\n",
    "browser = Browser(\"chrome\", **executable_path, headless=False)"
   ]
  },
  {
   "cell_type": "code",
   "execution_count": 84,
   "metadata": {},
   "outputs": [],
   "source": [
    "browser.visit(imgurl)"
   ]
  },
  {
   "cell_type": "code",
   "execution_count": 85,
   "metadata": {},
   "outputs": [],
   "source": [
    "# Saving retrieved image in a JPG file\n",
    "data = urllib.request.urlretrieve(imgurl, imgname+\".jpg\")"
   ]
  },
  {
   "cell_type": "code",
   "execution_count": 86,
   "metadata": {},
   "outputs": [],
   "source": [
    "time.sleep(5)"
   ]
  },
  {
   "cell_type": "code",
   "execution_count": 87,
   "metadata": {},
   "outputs": [],
   "source": [
    "browser.quit()"
   ]
  },
  {
   "cell_type": "code",
   "execution_count": 88,
   "metadata": {},
   "outputs": [],
   "source": [
    "\n",
    "\n",
    "# All DONE !!!!!!!!!\n",
    "\n"
   ]
  }
 ],
 "metadata": {
  "kernelspec": {
   "display_name": "Python 3",
   "language": "python",
   "name": "python3"
  },
  "language_info": {
   "codemirror_mode": {
    "name": "ipython",
    "version": 3
   },
   "file_extension": ".py",
   "mimetype": "text/x-python",
   "name": "python",
   "nbconvert_exporter": "python",
   "pygments_lexer": "ipython3",
   "version": "3.7.3"
  }
 },
 "nbformat": 4,
 "nbformat_minor": 2
}
